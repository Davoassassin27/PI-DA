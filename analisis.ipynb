{
 "cells": [
  {
   "attachments": {},
   "cell_type": "markdown",
   "metadata": {},
   "source": [
    "### En este notebook se dejó anotadas todas las métricas decidas y KPIs correspondientes"
   ]
  },
  {
   "cell_type": "code",
   "execution_count": null,
   "metadata": {},
   "outputs": [],
   "source": [
    "import numpy as np\n",
    "import pandas as pd \n",
    "import sweetviz as sv\n",
    "import missingno as msno\n",
    "import ydata_profiling\n",
    "from ydata_profiling import ProfileReport\n",
    "import matplotlib.pyplot as plt\n",
    "import seaborn as sns\n",
    "import streamlit as st"
   ]
  },
  {
   "cell_type": "code",
   "execution_count": null,
   "metadata": {},
   "outputs": [],
   "source": [
    "df = pd.read_csv(\"dataset_accidentes_prueba.csv\", low_memory=False)"
   ]
  },
  {
   "cell_type": "code",
   "execution_count": null,
   "metadata": {},
   "outputs": [],
   "source": [
    "df.info()"
   ]
  },
  {
   "cell_type": "code",
   "execution_count": null,
   "metadata": {},
   "outputs": [],
   "source": [
    "df['mortality_rate'] = (df['all_fatalities'] / df['all_aboard']) * 100"
   ]
  },
  {
   "cell_type": "code",
   "execution_count": null,
   "metadata": {},
   "outputs": [],
   "source": [
    "promedio_mortalidad = df['mortality_rate'].mean()\n",
    "promedio_mortalidad"
   ]
  },
  {
   "cell_type": "code",
   "execution_count": null,
   "metadata": {},
   "outputs": [],
   "source": [
    "df.info()"
   ]
  },
  {
   "cell_type": "code",
   "execution_count": null,
   "metadata": {},
   "outputs": [],
   "source": [
    "sns.barplot(x='decade', y='all_fatalities', data=df,  estimator=sum)\n",
    "plt.title(\"Número de fallecidos por década\")\n",
    "plt.xlabel(\"Década\")\n",
    "plt.ylabel(\"Número de fallecidos\")\n",
    "plt.legend(['Fallecidos', 'Vuelos'])\n",
    "plt.show()"
   ]
  },
  {
   "cell_type": "code",
   "execution_count": null,
   "metadata": {},
   "outputs": [],
   "source": [
    "# 1. Tasa de mortalidad de pasajeros\n",
    "df['mortality_rate'] = (df['all_fatalities'] / df['all_aboard']) * 100\n",
    "\n",
    "# 2. Número de accidentes por operador\n",
    "accidents_by_operator = df.groupby('operator').size().reset_index(name='total_accidents')\n",
    "\n",
    "# 3. Locaciones con mayor cantidad de accidentes\n",
    "top_locations = df['location'].value_counts().head(5)\n",
    "\n",
    "st.title('KPIs de Accidentes Aéreos')\n",
    "st.header('Tasa de mortalidad de pasajeros')\n",
    "st.dataframe(df[['datetime', 'operator', 'all_aboard', 'all_fatalities', 'mortality_rate']])\n",
    "\n",
    "st.header('Número de accidentes por operador')\n",
    "st.dataframe(accidents_by_operator)\n",
    "\n",
    "st.header('Locaciones con mayor cantidad de accidentes')\n",
    "st.dataframe(top_locations)"
   ]
  },
  {
   "cell_type": "code",
   "execution_count": 9,
   "metadata": {},
   "outputs": [
    {
     "data": {
      "text/plain": [
       "decade\n",
       "1900      2\n",
       "1910     13\n",
       "1920    175\n",
       "1930    345\n",
       "1940    529\n",
       "1950    622\n",
       "1960    629\n",
       "1970    597\n",
       "1980    510\n",
       "1990    604\n",
       "2000    498\n",
       "2010    227\n",
       "2020     14\n",
       "dtype: int64"
      ]
     },
     "execution_count": 9,
     "metadata": {},
     "output_type": "execute_result"
    }
   ],
   "source": [
    "accidentes_por_decada = df.groupby('decade').size()\n",
    "accidentes_por_decada\n"
   ]
  },
  {
   "cell_type": "code",
   "execution_count": 11,
   "metadata": {},
   "outputs": [
    {
     "data": {
      "text/plain": [
       "decade\n",
       "1900      2\n",
       "1910     12\n",
       "1920    173\n",
       "1930    335\n",
       "1940    525\n",
       "1950    615\n",
       "1960    621\n",
       "1970    593\n",
       "1980    499\n",
       "1990    594\n",
       "2000    484\n",
       "2010    224\n",
       "2020     14\n",
       "dtype: int64"
      ]
     },
     "execution_count": 11,
     "metadata": {},
     "output_type": "execute_result"
    }
   ],
   "source": [
    "accidentes_fatales_por_decada = df[df['all_fatalities'] > 0].groupby('decade').size()\n",
    "accidentes_fatales_por_decada "
   ]
  }
 ],
 "metadata": {
  "kernelspec": {
   "display_name": "Python 3",
   "language": "python",
   "name": "python3"
  },
  "language_info": {
   "codemirror_mode": {
    "name": "ipython",
    "version": 3
   },
   "file_extension": ".py",
   "mimetype": "text/x-python",
   "name": "python",
   "nbconvert_exporter": "python",
   "pygments_lexer": "ipython3",
   "version": "3.11.1"
  },
  "orig_nbformat": 4
 },
 "nbformat": 4,
 "nbformat_minor": 2
}
