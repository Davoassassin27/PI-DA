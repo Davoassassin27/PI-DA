{
 "cells": [
  {
   "attachments": {},
   "cell_type": "markdown",
   "metadata": {},
   "source": [
    "### Este es el EDA y ETL correcto, limpio y organizado sobre el dataset brindado."
   ]
  },
  {
   "cell_type": "code",
   "execution_count": null,
   "metadata": {},
   "outputs": [],
   "source": [
    "import numpy as np\n",
    "import pandas as pd \n",
    "import sweetviz as sv\n",
    "import missingno as msno\n",
    "import ydata_profiling\n",
    "from ydata_profiling import ProfileReport\n",
    "import matplotlib.pyplot as plt"
   ]
  },
  {
   "cell_type": "code",
   "execution_count": null,
   "metadata": {},
   "outputs": [],
   "source": [
    "df = pd.read_csv(\"dataset/AccidentesAviones.csv\", low_memory=False) "
   ]
  },
  {
   "cell_type": "code",
   "execution_count": null,
   "metadata": {},
   "outputs": [],
   "source": [
    "# drop de la columnas innecesarias\n",
    "df.drop(\"Unnamed: 0\",axis=\"columns\",inplace=True)\n",
    "df.drop(\"route\",axis=\"columns\",inplace=True)\n",
    "df.drop(\"HORA declarada\",axis=\"columns\",inplace=True)\n",
    "df.drop(\"flight_no\",axis=\"columns\",inplace=True)\n",
    "df.drop(\"registration\",axis=\"columns\",inplace=True)\n",
    "df.drop(\"summary\",axis=\"columns\",inplace=True)\n",
    "df.drop(\"cn_ln\",axis=\"columns\",inplace=True)"
   ]
  },
  {
   "cell_type": "code",
   "execution_count": null,
   "metadata": {},
   "outputs": [],
   "source": [
    "# se renombra columnas para estandarizar idiomas\n",
    "df = df.rename(columns={'PASAJEROS A BORDO': 'passenger_aboard'})\n",
    "df = df.rename(columns={'cantidad de fallecidos': 'all_fatalities'})\n",
    "df = df.rename(columns={'fecha': 'datetime'})\n",
    "df = df.rename(columns={'Ruta': 'location'})\n",
    "df = df.rename(columns={'OperadOR': 'operator'})\n"
   ]
  },
  {
   "attachments": {},
   "cell_type": "markdown",
   "metadata": {},
   "source": [
    "### TODO lo que sigue es conversión de datos a sus formatos correspondientes para ser procesador en el analisis"
   ]
  },
  {
   "cell_type": "code",
   "execution_count": null,
   "metadata": {},
   "outputs": [],
   "source": [
    "df['datetime'] = pd.to_datetime(df['datetime'])"
   ]
  },
  {
   "cell_type": "code",
   "execution_count": null,
   "metadata": {},
   "outputs": [],
   "source": [
    "def obtener_decada(fecha):\n",
    "    decada = str(fecha.year)[:3] + \"0\"\n",
    "    return decada\n",
    "df['decade'] = df['datetime'].apply(obtener_decada)"
   ]
  },
  {
   "cell_type": "code",
   "execution_count": null,
   "metadata": {},
   "outputs": [],
   "source": [
    "df[\"datetime\"] = pd.to_datetime(df[\"datetime\"], format=\"%d-%m-%Y\")\n",
    "df[\"year\"] = df[\"datetime\"].dt.year"
   ]
  },
  {
   "cell_type": "code",
   "execution_count": null,
   "metadata": {},
   "outputs": [],
   "source": [
    "df[\"decade\"] = df[\"decade\"].astype(int)\n",
    "df[\"all_aboard\"] = df[\"all_aboard\"].astype(\"int64\")\n",
    "df[\"crew_aboard\"] = df[\"crew_aboard\"].astype(\"int64\")\n",
    "df[\"passenger_aboard\"] = df[\"passenger_aboard\"].astype(\"int64\")\n",
    "df[\"all_fatalities\"] = df[\"all_fatalities\"].astype(\"int64\")\n",
    "df[\"passenger_fatalities\"] = df[\"passenger_fatalities\"].astype(\"int64\")\n",
    "df[\"crew_fatalities\"] = df[\"crew_fatalities\"].astype(\"int64\")\n",
    "df[\"ground\"] = df[\"ground\"].astype(\"int64\")"
   ]
  },
  {
   "cell_type": "code",
   "execution_count": null,
   "metadata": {},
   "outputs": [],
   "source": [
    "df.info()"
   ]
  },
  {
   "cell_type": "code",
   "execution_count": null,
   "metadata": {},
   "outputs": [],
   "source": [
    "df.head()"
   ]
  },
  {
   "cell_type": "code",
   "execution_count": null,
   "metadata": {},
   "outputs": [],
   "source": [
    "df[\"all_aboard\"] = df[\"all_aboard\"].replace(\"?\", np.nan)\n",
    "df[\"passenger_aboard\"] = df[\"passenger_aboard\"].replace(\"?\", np.nan)\n",
    "df[\"crew_aboard\"] = df[\"crew_aboard\"].replace(\"?\", np.nan)\n",
    "df[\"all_fatalities\"] = df[\"all_fatalities\"].replace(\"?\", np.nan)\n",
    "df[\"passenger_fatalities\"] = df[\"passenger_fatalities\"].replace(\"?\", np.nan)\n",
    "df[\"crew_fatalities\"] = df[\"crew_fatalities\"].replace(\"?\", np.nan)\n",
    "df[\"ground\"] = df[\"ground\"].replace(\"?\", np.nan)\n",
    "df[\"datetime\"] = df[\"datetime\"].replace(\"?\", np.nan)"
   ]
  },
  {
   "cell_type": "code",
   "execution_count": null,
   "metadata": {},
   "outputs": [],
   "source": [
    "df = df.dropna(subset=[\"all_aboard\"])"
   ]
  },
  {
   "cell_type": "code",
   "execution_count": null,
   "metadata": {},
   "outputs": [],
   "source": [
    "# 4.4% de la muestra contiene al menos 1 valor nulo.\n",
    "df.isna().any(axis=1).sum()"
   ]
  },
  {
   "cell_type": "code",
   "execution_count": null,
   "metadata": {},
   "outputs": [],
   "source": [
    "# df[\"datetime\"].isnull().sum()\n",
    "# df[\"passenger_aboard\"].isnull().sum()\n",
    "# df[\"crew_aboard\"].isnull().sum()\n",
    "# df[\"all_fatalities\"].isnull().sum()\n",
    "# df[\"passenger_fatalities\"].isnull().sum()\n",
    "# df[\"crew_fatalities\"].isnull().sum()\n",
    "# df[\"ground\"].isnull().sum()\n",
    "# df[\"location\"].isnull().sum()\n",
    "# df[\"operator\"].isnull().sum()\n",
    "# df[\"ac_type\"].isnull().sum()"
   ]
  },
  {
   "cell_type": "code",
   "execution_count": null,
   "metadata": {},
   "outputs": [],
   "source": [
    "filas_nulas = df[df[\"ground\"].isnull()]\n",
    "filas_nulas"
   ]
  },
  {
   "cell_type": "code",
   "execution_count": null,
   "metadata": {},
   "outputs": [],
   "source": [
    "indices_no_modificar = [714, 907, 2429, 2988] \n",
    "df.loc[~df.index.isin(indices_no_modificar), \"ground\"] = df.loc[~df.index.isin(indices_no_modificar), \"ground\"].fillna(0)\n"
   ]
  },
  {
   "cell_type": "code",
   "execution_count": null,
   "metadata": {},
   "outputs": [],
   "source": [
    "df = df.drop(714)\n",
    "df = df.drop(907)\n",
    "df = df.drop(2429)\n",
    "df = df.drop(2988)"
   ]
  },
  {
   "cell_type": "code",
   "execution_count": null,
   "metadata": {},
   "outputs": [],
   "source": [
    "\n",
    "num_filas_con_nulos = df.isnull().any(axis=1).sum()\n",
    "num_filas_con_nulos"
   ]
  },
  {
   "cell_type": "code",
   "execution_count": null,
   "metadata": {},
   "outputs": [],
   "source": [
    "df = df.dropna()"
   ]
  },
  {
   "cell_type": "code",
   "execution_count": null,
   "metadata": {},
   "outputs": [],
   "source": [
    "df.to_csv(\"dataset_accidentes_prueba.csv\", index=False)"
   ]
  },
  {
   "cell_type": "code",
   "execution_count": null,
   "metadata": {},
   "outputs": [],
   "source": [
    "profile = ProfileReport(df)\n",
    "profile.to_file(\"reporte.html\")"
   ]
  }
 ],
 "metadata": {
  "kernelspec": {
   "display_name": "Python 3",
   "language": "python",
   "name": "python3"
  },
  "language_info": {
   "codemirror_mode": {
    "name": "ipython",
    "version": 3
   },
   "file_extension": ".py",
   "mimetype": "text/x-python",
   "name": "python",
   "nbconvert_exporter": "python",
   "pygments_lexer": "ipython3",
   "version": "3.11.1"
  },
  "orig_nbformat": 4
 },
 "nbformat": 4,
 "nbformat_minor": 2
}
