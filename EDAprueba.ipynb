{
 "cells": [
  {
   "attachments": {},
   "cell_type": "markdown",
   "metadata": {},
   "source": [
    "### Este EDA ha sido del primer vistazo al dataset y se encuentra totalmente desordenado"
   ]
  },
  {
   "cell_type": "code",
   "execution_count": null,
   "metadata": {},
   "outputs": [],
   "source": [
    "import pandas as pd \n",
    "import sweetviz as sv\n",
    "import missingno as msno\n",
    "import ydata_profiling\n",
    "from ydata_profiling import ProfileReport\n",
    "import matplotlib.pyplot as plt\n"
   ]
  },
  {
   "cell_type": "code",
   "execution_count": null,
   "metadata": {},
   "outputs": [],
   "source": [
    "df = pd.read_csv(\"dataset/AccidentesAviones.csv\", low_memory=False)"
   ]
  },
  {
   "cell_type": "code",
   "execution_count": null,
   "metadata": {},
   "outputs": [],
   "source": [
    "df.head()"
   ]
  },
  {
   "cell_type": "code",
   "execution_count": null,
   "metadata": {},
   "outputs": [],
   "source": [
    "pd.set_option('display.max_rows', None)\n",
    "df"
   ]
  },
  {
   "cell_type": "code",
   "execution_count": null,
   "metadata": {},
   "outputs": [],
   "source": [
    "df.info()"
   ]
  },
  {
   "cell_type": "code",
   "execution_count": null,
   "metadata": {},
   "outputs": [],
   "source": [
    "df"
   ]
  },
  {
   "cell_type": "code",
   "execution_count": null,
   "metadata": {},
   "outputs": [],
   "source": [
    "df.loc[4][\"summary\"]"
   ]
  },
  {
   "cell_type": "code",
   "execution_count": null,
   "metadata": {},
   "outputs": [],
   "source": [
    "report = sv.analyze(df)\n",
    "report.show_html('informe.html')\n"
   ]
  },
  {
   "cell_type": "code",
   "execution_count": null,
   "metadata": {},
   "outputs": [],
   "source": [
    "profile = ProfileReport(df)\n",
    "profile.to_file(\"reporte.html\")"
   ]
  },
  {
   "cell_type": "code",
   "execution_count": null,
   "metadata": {},
   "outputs": [],
   "source": [
    "# ESTO FUE PARA BORRAR UNNAMED\n",
    "# df.drop(df.columns[0], axis=1, inplace=True)"
   ]
  },
  {
   "cell_type": "code",
   "execution_count": null,
   "metadata": {},
   "outputs": [],
   "source": [
    "\n",
    "df.drop(\"HORA declarada\",axis=\"columns\",inplace=True)"
   ]
  },
  {
   "cell_type": "code",
   "execution_count": null,
   "metadata": {},
   "outputs": [],
   "source": [
    "df.head()"
   ]
  },
  {
   "cell_type": "code",
   "execution_count": null,
   "metadata": {},
   "outputs": [],
   "source": [
    "df.tail()"
   ]
  },
  {
   "cell_type": "code",
   "execution_count": null,
   "metadata": {},
   "outputs": [],
   "source": [
    "coincidencias = df['crew_aboard'] == df['cantidad de fallecidos']\n",
    "print(coincidencias)\n"
   ]
  },
  {
   "cell_type": "code",
   "execution_count": null,
   "metadata": {},
   "outputs": [],
   "source": [
    "conteo = coincidencias.value_counts()\n",
    "conteo"
   ]
  },
  {
   "cell_type": "code",
   "execution_count": null,
   "metadata": {},
   "outputs": [],
   "source": [
    "df.head()"
   ]
  },
  {
   "cell_type": "code",
   "execution_count": null,
   "metadata": {},
   "outputs": [],
   "source": [
    "df['route'] = df['route'].replace(\"?\", \"Desconocido\")"
   ]
  },
  {
   "cell_type": "code",
   "execution_count": null,
   "metadata": {},
   "outputs": [],
   "source": [
    "df['route'].isnull().sum()"
   ]
  },
  {
   "attachments": {},
   "cell_type": "markdown",
   "metadata": {},
   "source": [
    "### A partir de aca, solo son funciones para visualizar metricas basicas como repeticion de palabras dentro de las columnas del dataframe original"
   ]
  },
  {
   "cell_type": "code",
   "execution_count": null,
   "metadata": {},
   "outputs": [],
   "source": [
    "word_counts = df['OperadOR'].value_counts()\n",
    "n = 10 \n",
    "\n",
    "top_words = word_counts.head(n)\n",
    "\n",
    "plt.figure(figsize=(10, 6))\n",
    "top_words.plot(kind='bar')\n",
    "plt.xlabel('Palabra')\n",
    "plt.ylabel('Frecuencia')\n",
    "plt.title(f'Top {n} Palabras Más Repetidas')\n",
    "plt.show()\n",
    "\n"
   ]
  },
  {
   "cell_type": "code",
   "execution_count": null,
   "metadata": {},
   "outputs": [],
   "source": [
    "word_counts_route = df['route'].value_counts()\n",
    "n = 10 \n",
    "\n",
    "top_words = word_counts_route.head(n)\n",
    "\n",
    "plt.figure(figsize=(10, 6))\n",
    "top_words.plot(kind='bar')\n",
    "plt.xlabel('Palabra')\n",
    "plt.ylabel('Frecuencia')\n",
    "plt.title(f'Top {n} Palabras Más Repetidas')\n",
    "plt.show()"
   ]
  },
  {
   "cell_type": "code",
   "execution_count": null,
   "metadata": {},
   "outputs": [],
   "source": [
    "word_counts_ruta = df['Ruta'].value_counts()\n",
    "n = 10 \n",
    "\n",
    "top_words = word_counts_ruta.head(n)\n",
    "\n",
    "plt.figure(figsize=(10, 6))\n",
    "top_words.plot(kind='bar')\n",
    "plt.xlabel('Palabra')\n",
    "plt.ylabel('Frecuencia')\n",
    "plt.title(f'Top {n} Palabras Más Repetidas')\n",
    "plt.show()"
   ]
  },
  {
   "cell_type": "code",
   "execution_count": null,
   "metadata": {},
   "outputs": [],
   "source": [
    "word_counts_hora = df['HORA declarada'].value_counts()\n",
    "n = 10 \n",
    "\n",
    "top_words = word_counts_hora.head(n)\n",
    "\n",
    "plt.figure(figsize=(10, 6))\n",
    "top_words.plot(kind='bar')\n",
    "plt.xlabel('Palabra')\n",
    "plt.ylabel('Frecuencia')\n",
    "plt.title(f'Top {n} Palabras Más Repetidas')\n",
    "plt.show()"
   ]
  },
  {
   "cell_type": "code",
   "execution_count": null,
   "metadata": {},
   "outputs": [],
   "source": [
    "df['HORA declarada'].isnull().sum()"
   ]
  },
  {
   "cell_type": "code",
   "execution_count": null,
   "metadata": {},
   "outputs": [],
   "source": [
    "word_counts_No = df['flight_no'].value_counts()\n",
    "n = 10 \n",
    "\n",
    "top_words = word_counts_No.head(n)\n",
    "\n",
    "plt.figure(figsize=(10, 6))\n",
    "top_words.plot(kind='bar')\n",
    "plt.xlabel('Palabra')\n",
    "plt.ylabel('Frecuencia')\n",
    "plt.title(f'Top {n} Palabras Más Repetidas')\n",
    "plt.show()"
   ]
  },
  {
   "cell_type": "code",
   "execution_count": null,
   "metadata": {},
   "outputs": [],
   "source": [
    "word_counts_reg = df['registration'].value_counts()\n",
    "n = 10 \n",
    "\n",
    "top_words = word_counts_reg.head(n)\n",
    "\n",
    "plt.figure(figsize=(10, 6))\n",
    "top_words.plot(kind='bar')\n",
    "plt.xlabel('Palabra')\n",
    "plt.ylabel('Frecuencia')\n",
    "plt.title(f'Top {n} Palabras Más Repetidas')\n",
    "plt.show()"
   ]
  },
  {
   "cell_type": "code",
   "execution_count": null,
   "metadata": {},
   "outputs": [],
   "source": [
    "hola = (df['ground'] == 0)\n",
    "counts = df['ground'].value_counts()\n",
    "counts"
   ]
  },
  {
   "cell_type": "code",
   "execution_count": null,
   "metadata": {},
   "outputs": [],
   "source": [
    "n = 10 \n",
    "\n",
    "top_words = counts.head(n)\n",
    "\n",
    "plt.figure(figsize=(10, 6))\n",
    "top_words.plot(kind='bar')\n",
    "plt.xlabel('Palabra')\n",
    "plt.ylabel('Frecuencia')\n",
    "plt.title(f'Top {n} Palabras Más Repetidas')\n",
    "plt.show()"
   ]
  },
  {
   "cell_type": "code",
   "execution_count": null,
   "metadata": {},
   "outputs": [],
   "source": [
    "word_counts_ops = df['OperadOR'].value_counts()\n",
    "n = 10 \n",
    "\n",
    "top_words = word_counts_ops.head(n)\n",
    "\n",
    "plt.figure(figsize=(10, 6))\n",
    "top_words.plot(kind='bar')\n",
    "plt.xlabel('Palabra')\n",
    "plt.ylabel('Frecuencia')\n",
    "plt.title(f'Top {n} Palabras Más Repetidas')\n",
    "plt.show()"
   ]
  },
  {
   "cell_type": "code",
   "execution_count": null,
   "metadata": {},
   "outputs": [],
   "source": [
    "word_counts_type = df['ac_type'].value_counts()\n",
    "n = 10 \n",
    "\n",
    "top_words = word_counts_type.head(n)\n",
    "\n",
    "plt.figure(figsize=(10, 6))\n",
    "top_words.plot(kind='bar')\n",
    "plt.xlabel('Palabra')\n",
    "plt.ylabel('Frecuencia')\n",
    "plt.title(f'Top {n} Palabras Más Repetidas')\n",
    "plt.show()"
   ]
  },
  {
   "cell_type": "code",
   "execution_count": null,
   "metadata": {},
   "outputs": [],
   "source": [
    "df.head()"
   ]
  },
  {
   "cell_type": "code",
   "execution_count": null,
   "metadata": {},
   "outputs": [],
   "source": [
    "\n",
    "\n",
    "\n",
    "coincidencias = df[df[\"Ruta\"] == df[\"OperadOR\"]]\n",
    "coincidencias\n"
   ]
  },
  {
   "cell_type": "code",
   "execution_count": null,
   "metadata": {},
   "outputs": [],
   "source": [
    "resultados = df[(df['OperadOR'] == 'Military - U.S. Air Force')]\n",
    "resultados"
   ]
  }
 ],
 "metadata": {
  "kernelspec": {
   "display_name": "Python 3",
   "language": "python",
   "name": "python3"
  },
  "language_info": {
   "codemirror_mode": {
    "name": "ipython",
    "version": 3
   },
   "file_extension": ".py",
   "mimetype": "text/x-python",
   "name": "python",
   "nbconvert_exporter": "python",
   "pygments_lexer": "ipython3",
   "version": "3.11.1"
  },
  "orig_nbformat": 4
 },
 "nbformat": 4,
 "nbformat_minor": 2
}
